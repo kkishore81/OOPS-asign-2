{
 "cells": [
  {
   "cell_type": "code",
   "execution_count": null,
   "id": "61a32484-c9f0-4a13-b3f3-202eab728bf9",
   "metadata": {},
   "outputs": [],
   "source": [
    "# Q1. What is Abstraction in OOps? Explain with an example."
   ]
  },
  {
   "cell_type": "code",
   "execution_count": null,
   "id": "dd1a85d9-3996-47b0-9501-a56ded8c0253",
   "metadata": {},
   "outputs": [],
   "source": [
    " # abstraction allows us to create a common blueprint or sleleton  by defining the abstract class"
   ]
  },
  {
   "cell_type": "code",
   "execution_count": 1,
   "id": "ef5be2e0-063d-4ec1-9ec8-1dafe7ab9695",
   "metadata": {},
   "outputs": [],
   "source": [
    "import abc\n",
    "class pwskills:\n",
    "    \n",
    "    @abc.abstractmethod\n",
    "    def students_detials(self):\n",
    "        pass\n",
    "    \n",
    "    @abc.abstractmethod\n",
    "    def student_assignemnt(self):\n",
    "        pass\n",
    "    \n",
    "    @abc.abstractmethod\n",
    "    def student_marks(self):\n",
    "        pass"
   ]
  },
  {
   "cell_type": "code",
   "execution_count": 3,
   "id": "ec64f197-3b18-4c4d-8ad8-00f0635e8e63",
   "metadata": {},
   "outputs": [],
   "source": [
    "class student_detils(pwskills):\n",
    "    \n",
    "    def students_detials(self):\n",
    "        return \"this is a meth for taking students details\"\n",
    "    \n",
    "    def student_assignemnt(self):\n",
    "        return \"this is a meth for assing details for a perticualt student\""
   ]
  },
  {
   "cell_type": "code",
   "execution_count": null,
   "id": "19d7ee5a-ca39-4fae-aa21-1922af98025c",
   "metadata": {},
   "outputs": [],
   "source": [
    "# Differentiate between Abstraction and Encapsulation. Explain with an example."
   ]
  },
  {
   "cell_type": "code",
   "execution_count": 4,
   "id": "8b7e331a-e708-4b41-af93-4151204df8e0",
   "metadata": {},
   "outputs": [],
   "source": [
    "   # abstraction allows us to create a common blueprint or sleleton  by defining the abstract class\n",
    "    # Encapsulation  bundles data and methods together within a class,by \n",
    "    hiding the internal details and providing controlled access to the object's state by using double __\n",
    "    abstraction focuses on simplifying complex entities by defining common properties and methods in abstract classes and interfaces,\n",
    "    while encapsulation emphasizes bundling data and methods together within a class, hiding internal details and providing controlled \n",
    "    access to the object's state."
   ]
  },
  {
   "cell_type": "code",
   "execution_count": 5,
   "id": "54012493-c8e9-4882-bc5c-1e4c4f846e54",
   "metadata": {},
   "outputs": [],
   "source": [
    "class car :\n",
    "    def __init__(self , year , make , model, speed ) : \n",
    "        \n",
    "        self.__year = year \n",
    "        self.__make = make\n",
    "        self.__model = model\n",
    "        self.__speed = 0\n",
    "        \n",
    "    def set_speed(self,speed) : \n",
    "        self.__speed = 0 if speed < 0 else speed\n",
    "        \n",
    "    def get_speed(self)  : \n",
    "        return self.__speed"
   ]
  },
  {
   "cell_type": "code",
   "execution_count": 6,
   "id": "ea3dd486-6e0c-4853-b735-88e2a29d768b",
   "metadata": {},
   "outputs": [],
   "source": [
    "c = car(2021 , \"toyata\" , \"innova\" , 12)"
   ]
  },
  {
   "cell_type": "code",
   "execution_count": 7,
   "id": "7ab4f6d8-c608-4dbb-b173-7f903329b378",
   "metadata": {},
   "outputs": [
    {
     "data": {
      "text/plain": [
       "2021"
      ]
     },
     "execution_count": 7,
     "metadata": {},
     "output_type": "execute_result"
    }
   ],
   "source": [
    "c._car__year"
   ]
  },
  {
   "cell_type": "code",
   "execution_count": null,
   "id": "340e0d5a-2e0a-4bbd-bed0-436b674da2e3",
   "metadata": {},
   "outputs": [],
   "source": [
    "# we are unable to change he data in encapsulation"
   ]
  },
  {
   "cell_type": "code",
   "execution_count": null,
   "id": "06095305-9c38-4cf5-ab63-f13b972e5bca",
   "metadata": {},
   "outputs": [],
   "source": [
    "# What is abc module in python? Why is it used? why it is used"
   ]
  },
  {
   "cell_type": "code",
   "execution_count": 8,
   "id": "7700c4d3-76e0-478d-852e-84421142c75a",
   "metadata": {},
   "outputs": [],
   "source": [
    "#The abc module  provides the infrastructure for defining abstract class"
   ]
  },
  {
   "cell_type": "code",
   "execution_count": 10,
   "id": "ad170c36-5065-4ca9-8835-48d461abe929",
   "metadata": {},
   "outputs": [],
   "source": [
    "import abc"
   ]
  },
  {
   "cell_type": "code",
   "execution_count": 11,
   "id": "93064c9c-acce-40d2-a21c-c869b2b6c445",
   "metadata": {},
   "outputs": [
    {
     "data": {
      "text/plain": [
       "abc.abstractclassmethod"
      ]
     },
     "execution_count": 11,
     "metadata": {},
     "output_type": "execute_result"
    }
   ],
   "source": [
    "abc.abstractclassmethod"
   ]
  },
  {
   "cell_type": "code",
   "execution_count": 12,
   "id": "3293b1ec-ef6e-4e0f-82b5-c3a633226a64",
   "metadata": {},
   "outputs": [],
   "source": [
    "# Q4. How can we achieve data abstraction?\n"
   ]
  },
  {
   "cell_type": "code",
   "execution_count": null,
   "id": "4f60c73c-882a-4091-bf95-e7501bc7c213",
   "metadata": {},
   "outputs": [],
   "source": [
    "#There are two main ways to achieve data abstraction:\n",
    "\n",
    "Abstract classes: An abstract class is a class that cannot be instantiated. It can only be used as a base class for other classes.\n",
    "Abstract classes can contain abstract methods, which are methods that have no implementation. Concrete classes that inherit from \n",
    "an abstract class must provide implementations for all of the abstract methods in the base class.\n",
    "\n",
    "Interfaces: An interface is a special type of class that only contains abstract methods. Interfaces cannot contain any data members. \n",
    "Interfaces are used to define the behavior of a class, but they do not specify how that behavior is implemented."
   ]
  },
  {
   "cell_type": "code",
   "execution_count": null,
   "id": "ca1335c1-5ab0-4c42-84cb-8e60f4126a88",
   "metadata": {},
   "outputs": [],
   "source": [
    "Can we create an instance of an abstract class? Explain your answer."
   ]
  },
  {
   "cell_type": "code",
   "execution_count": null,
   "id": "9d8909af-9e92-4e2b-a9f1-f19669b4154c",
   "metadata": {},
   "outputs": [],
   "source": [
    "# No, we cannot create an instance of an abstract class in Python."
   ]
  },
  {
   "cell_type": "code",
   "execution_count": 13,
   "id": "9fdbf493-1588-40e1-879a-654681cd6f6b",
   "metadata": {},
   "outputs": [],
   "source": [
    "from abc import ABC, abstractmethod\n",
    "\n",
    "class Animal(ABC):\n",
    "\n",
    "    @abstractmethod\n",
    "    def make_sound(self):\n",
    "        pass\n",
    "    \n",
    "import abc\n",
    "class pwskills:\n",
    "    \n",
    "    @abc.abstractmethod\n",
    "    def students_detials(self):\n",
    "        pass\n"
   ]
  },
  {
   "cell_type": "code",
   "execution_count": null,
   "id": "fb88a8d9-214f-41b3-a58b-c1f447f45d6b",
   "metadata": {},
   "outputs": [],
   "source": [
    "# This class cannot be instantiated directly, because it contains the abstract method student_detailsmake_sound(). \n",
    "However, we can create a concrete class that inherits from this class and provides an implementation for the make_sound() method:\n"
   ]
  }
 ],
 "metadata": {
  "kernelspec": {
   "display_name": "Python 3 (ipykernel)",
   "language": "python",
   "name": "python3"
  },
  "language_info": {
   "codemirror_mode": {
    "name": "ipython",
    "version": 3
   },
   "file_extension": ".py",
   "mimetype": "text/x-python",
   "name": "python",
   "nbconvert_exporter": "python",
   "pygments_lexer": "ipython3",
   "version": "3.10.8"
  }
 },
 "nbformat": 4,
 "nbformat_minor": 5
}
